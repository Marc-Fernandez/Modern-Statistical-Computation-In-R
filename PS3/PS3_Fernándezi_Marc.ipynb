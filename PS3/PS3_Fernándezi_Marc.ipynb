{
 "cells": [
  {
   "cell_type": "raw",
   "id": "7079f9ef",
   "metadata": {},
   "source": [
    "---\n",
    "title: \"PS3_Fernándezi_Marc\"\n",
    "output:\n",
    "  html_document:\n",
    "    df_print: paged\n",
    "---"
   ]
  },
  {
   "cell_type": "code",
   "execution_count": null,
   "id": "d8b18a3f",
   "metadata": {
    "lines_to_next_cell": 0
   },
   "outputs": [],
   "source": [
    "rm(list = ls())"
   ]
  },
  {
   "cell_type": "markdown",
   "id": "137efaa4",
   "metadata": {},
   "source": [
    "## Problem 1: Histogram with mean and median\n",
    "\n",
    "Write a function that, given a numerical vector as an argument, draws a histogram with two vertical lines with mean an median. Use different colors or line types in order to tell appart mean and median. Since hist can deal with missing values, your function should be able to deal with missing values.\n",
    "\n",
    "Suggestions: `hist`, `abline`, `function`, `mean`, `median`"
   ]
  },
  {
   "cell_type": "code",
   "execution_count": null,
   "id": "b9ca026f",
   "metadata": {
    "lines_to_next_cell": 2
   },
   "outputs": [],
   "source": [
    "hist_plotter <- function(vector, hist_title = \"Histogram of the vector\") # We pass a second (optional) parameter in case the user wants to change the title (will be useful for the examples)\n",
    "  {\n",
    "  max_vector <- max(vector, na.rm = TRUE)\n",
    "  min_vector <- min(vector, na.rm = TRUE)\n",
    "  breaks <- max_vector - min_vector\n",
    "  rounded_mean <- round(mean(vector, na.rm = TRUE), 2)\n",
    "  rounded_median <- round(median(vector, na.rm = TRUE), 2)\n",
    "  na_count <- sum(is.na(vector))\n",
    "  legend_text <- c(paste(\"Mean:\", rounded_mean), paste(\"Median:\", rounded_median), paste(\"NAs:\", na_count))\n",
    "  \n",
    "  hist(vector,\n",
    "       main = hist_title,\n",
    "       col = \"#f0efeb\", \n",
    "       breaks = breaks, # One bin per unique rounded down number\n",
    "       las=1, \n",
    "       xlim = c(min_vector, max_vector)) # Horizontal text on axis\n",
    "  \n",
    "  abline(v = c(mean(vector, na.rm = TRUE), median(vector, na.rm = TRUE)), \n",
    "         col = c(\"#ff9f1c\", \"#2ec4b6\"), \n",
    "         lwd = 2.7, \n",
    "         lty = c(2, 4, 0)) # We use different line styles so we can tell they overlap in the event that the median = mean\n",
    "\n",
    "  legend(\"topright\", legend = legend_text, lty=c(2, 4, 0), col = c(\"#ff9f1c\", \"#2ec4b6\"), lwd=2.7)\n",
    "  \n",
    "  box(\"plot\") # Create a solid box containing the histogram\n",
    "}\n",
    "\n",
    "# Example 1: a N(0,9) with 9000 observations\n",
    "hist_plotter(c(rnorm(9000, sd = 9)), \"Example 1: N(0,9) with 9000 observations. No NA values\")\n",
    "\n",
    "# Example 2: 30 random numbers uniformly distributed with an arbitrary number of NA values (from 1 to 30)\n",
    "numbers <- runif(30, -10, 10)\n",
    "\n",
    "number_of_nas <- round(runif(1, 1, 30), 0)\n",
    "nas <- c()\n",
    "while (length(nas) < number_of_nas) {\n",
    "  nas <- c(nas, NA)\n",
    "}\n",
    "example2 <- c(numbers, nas)\n",
    "\n",
    "hist_plotter(example2, \"Example 2: 30 random values and a trivial number of NA\")\n"
   ]
  },
  {
   "cell_type": "markdown",
   "id": "f292b524",
   "metadata": {},
   "source": [
    "## Problem 2: Orange rays\n",
    "\n",
    "Make a script to draw the graphic:\n",
    "\n",
    "The plot is formed by orange lines spaced 10 degrees and an horizontal and a vertical red ticker lines.\n",
    "\n",
    "Some suggestions:\n",
    "\n",
    "`plot`, `for`, `abline`, `tan`, `pi`\n",
    "\n",
    "* plot can be used with alt=TRUE argument to prevent the plot from getting stretched.\n",
    "\n",
    "* Trigonometric functions in R (and in most programming languages) need angles in radians. 90 degrees are `π/2` radians, but you already know that.\n",
    "\n",
    "* Since this exercise is meant to be just a graphical diverimento, changing colours or other features of the graphic for aesthetical purposes is allowed if actually done on purpose.\n"
   ]
  },
  {
   "cell_type": "code",
   "execution_count": null,
   "id": "2e7a03f7",
   "metadata": {},
   "outputs": [],
   "source": [
    "plot(0,0, type=\"n\", xlim=c(-1.9,1.9))\n",
    "for (degree in 1:18) {\n",
    "  abline(a=0, b = tan((10*degree*pi)/180), col=\"orange\")\n",
    "}\n",
    "abline(h = 0, v = 0, col = \"red\", lwd = 2)"
   ]
  },
  {
   "cell_type": "markdown",
   "id": "1569687f",
   "metadata": {
    "lines_to_next_cell": 0
   },
   "source": [
    "## Problem 5: Forbes list and ggplot\n",
    "\n",
    "a. Using the Forbes2000 data frame from package HSAUR and ggplot2 graphics, make a scatterplot showing market value (variable marketvalue), profits and country of each company."
   ]
  },
  {
   "cell_type": "code",
   "execution_count": null,
   "id": "1be40346",
   "metadata": {
    "fig.height": 8,
    "fig.width": 10
   },
   "outputs": [],
   "source": [
    "library(\"HSAUR\")\n",
    "library(\"ggplot2\")\n",
    "library(\"dplyr\")\n",
    "if (!require(\"ggthemes\")) {\n",
    "  install.packages(\"ggthemes\")\n",
    "}\n",
    "library(\"ggthemes\")\n",
    "\n",
    "Forbes2000 %>% \n",
    "  ggplot(aes(x = profits, y = marketvalue, color = country)) +\n",
    "  geom_point(na.rm = TRUE) +\n",
    "  theme(legend.position = \"top\")\n",
    "\n"
   ]
  },
  {
   "cell_type": "markdown",
   "id": "eb006fd3",
   "metadata": {},
   "source": [
    "b. As you may already have noticed, there are so many countries in the plot that the legend fills all the available space (unless the graphic area is very large) and countries are difficult to tell apart. Change the countries to “Other” for all companies except those from the 8 most frequent countries and repeat the graph. (8 is just a suggested value; you can leave more or less countries as long as you feel that it improves the graphic). Suggestion: Forbes2000$country is a factor. It may be easier for you to work with this variable as a character variable, by using as.character function."
   ]
  },
  {
   "cell_type": "code",
   "execution_count": null,
   "id": "4515ad78",
   "metadata": {
    "fig.width": 10
   },
   "outputs": [],
   "source": [
    "df2 <- data.frame(Forbes2000) # Creating a dataframe to work with\n",
    "\n",
    "freq_table <- table(Forbes2000$country) # Taking the frequencies of every country \n",
    "\n",
    "sorted_freq_table <- sort(freq_table, decreasing = TRUE)\n",
    "\n",
    "top8 <- data.frame(sorted_freq_table[1:8]) # Getting the top 8 countreis from the table and converting it to a dataframe to be able to access the country names\n",
    "\n",
    "top8 <- as.vector(top8$Var1) # Converting the top 8 country names into a vector to be tested later on\n",
    "\n",
    "df2$country <- as.character(df2$country) # De-factoring the column so we can add the \"Other\" value\n",
    "\n",
    "df2$country[!df2$country %in% top8] = \"Other\" # Testing which countries are NOT in the top 8 list by the number of companies, replacing the values with \"Other\" \n",
    "\n",
    "# GRAPHING\n",
    "\n",
    "df2 %>%\n",
    "  ggplot(aes(x = profits, y = marketvalue, color = country)) +\n",
    "  geom_point(na.rm = TRUE, aes(alpha = 0.3)) +\n",
    "  theme_economist() +\n",
    "  theme(legend.position = \"top\")\n"
   ]
  },
  {
   "cell_type": "markdown",
   "id": "14bd0163",
   "metadata": {},
   "source": [
    "### Another option, visualization by continents\n",
    "\n",
    "We first create a list of countries in each continent (not shown in markdown, but it is run in the background). This list has far more than all the countries that appear on the list, but it's a more robust measure to be used in further years."
   ]
  },
  {
   "cell_type": "code",
   "execution_count": null,
   "id": "a55bbf83",
   "metadata": {
    "tags": [
     "remove_cell"
    ]
   },
   "outputs": [],
   "source": [
    "Africa <- c(\"Algeria\",\"Africa\",\"Angola\",\"Benin\",\"Botswana\",\"Burkina\",\"Burundi\",\"Cameroon\",\"Cape Verde\",\"Central n Republic\",\"Chad\",\"Comoros\",\"Congo\",\"Djibouti\",\"Egypt\",\"South Africa\",\"Equatorial Guinea\",\"Eritrea\",\"Ethiopia\",\"Gabon\",\"Gambia\",\"Ghana\",\"Guinea\",\"Ivory Coast\",\"Kenya\",\"Lesotho\",\"Liberia\",\"Libya\",\"Madagascar\",\"Malawi\",\"Mali\",\"Mauritania\",\"Mauritius\",\"Morocco\",\"Mozambique\",\"Namibia\",\"Niger\",\"Nigeria\",\"Rwanda\",\"Senegal\",\"Seychelles\",\"Sierra Leone\",\"Somalia\",\"South \",\"South Sudan\",\"Sudan\",\"Swaziland\",\"Tanzania\",\"Togo\",\"Tunisia\",\"Uganda\",\"Zambia\",\"Zimbabwe\",\"Algeria\",\"Angola\",\"Benin\",\"Botswana\",\"Burkina\",\"Burundi\",\"Cameroon\",\"Cape Verde\",\"Central n Republic\",\"Chad\",\"Comoros\",\"Congo\",\"Djibouti\",\"Egypt\",\"Equatorial Guinea\",\"Eritrea\",\"Ethiopia\",\"Gabon\",\"Gambia\",\"Ghana\",\"Guinea\",\"Ivory Coast\",\"Kenya\",\"Lesotho\",\"Liberia\",\"Libya\",\"Madagascar\",\"Malawi\",\"Mali\",\"Mauritania\",\"Mauritius\",\"Morocco\",\"Mozambique\",\"Namibia\",\"Niger\",\"Nigeria\",\"Rwanda\",\"Senegal\",\"Seychelles\",\"Sierra Leone\",\"Somalia\",\"South \",\"South Sudan\",\"Sudan\",\"Swaziland\",\"Tanzania\",\"Togo\",\"Tunisia\",\"Uganda\",\"Zambia\",\"Zimbabwe\")\n",
    "\n",
    "Asia <- c(\"Afghanistan\",\"Bahrain\",\"Bangladesh\",\"Bhutan\",\"Brunei\",\"Burma\",\"Myanmar\",\"Cambodia\",\"China\",\"East Timor\",\"India\",\"Indonesia\",\"Iran\",\"Iraq\",\"Israel\",\"Japan\",\"Jordan\",\"Kazakhstan\",\"South Korea\",\"Kuwait\",\"Kyrgyzstan\",\"Laos\",\"Lebanon\",\"Malaysia\",\"Maldives\",\"Mongolia\",\"Nepal\",\"Oman\",\"Pakistan\",\"Philippines\",\"Qatar\",\"Russian Federation\",\"Russia\",\"Saudi Arabia\",\"Singapore\",\"Taiwan\",\"Sri Lanka\",\"Syria\",\"Tajikistan\",\"Thailand\",\"Turkey\",\"Turkmenistan\",\"United Arab Emirates\",\"Uzbekistan\",\"Vietnam\",\"Yemen\",\"Kong/China\",\"Hong Kong/China\", \"Korea\")\n",
    "\n",
    "\n",
    "Europe <- c(\"Albania\",\"Andorra\",\"Armenia\",\"Austria\",\"Azerbaijan\",\"Belarus\",\"Belgium\",\"Bosnia and Herzegovina\",\"Bulgaria\",\"Croatia\",\"Cyprus\",\"CZ\",\"Denmark\",\"Estonia\",\"Finland\",\"France\",\"Georgia\",\"Germany\",\"Greece\",\"Hungary\",\"Iceland\",\"Ireland\",\"Italy\",\"Latvia\",\"Liechtenstein\",\"United Kingdom/ South Africa\",\"Lithuania\",\"Luxembourg\",\"Macedonia\",\"Malta\",\"Moldova\",\"Monaco\",\"Montenegro\",\"Netherlands\",\"Norway\",\"Poland\",\"Portugal\",\"Romania\",\"San Marino\",\"Czech Republic\",\"United Kingdom/ Australia\",\"Islands\",\"Netherlands/ United Kingdom\",\"Serbia\",\"Slovakia\",\"Slovenia\",\"Spain\",\"Sweden\",\"Switzerland\",\"Ukraine\",\"United Kingdom\",\"Vatican City\",\"France/ United Kingdom\", \"Australia/ United Kingdom\", \"Australia/ United Kingdom\",\"Panama/ United Kingdom\",\"United Kingdom/ Netherlands\")\n",
    "\n",
    "North_America <- c(\"Antigua and Barbuda\",\"Bahamas\",\"Barbados\",\"Belize\",\"Canada\",\"Costa Rica\",\"Cuba\",\"Dominica\",\"Dominican Republic\",\"El Salvador\",\"Grenada\",\"Guatemala\",\"Haiti\",\"Cayman Islands\",\"Honduras\",\"Jamaica\",\"Bermuda\",\"Mexico\",\"Nicaragua\",\"Panama\",\"Saint Kitts and Nevis\",\"Saint Lucia\",\"Saint Vincent and the Grenadines\",\"Trinidad and Tobago\",\"United States\")\n",
    "\n",
    "South_America <- c(\"Argentina\",\"Bolivia\",\"Brazil\",\"Chile\",\"Colombia\",\"Ecuador\",\"Guyana\",\"Paraguay\",\"Peru\",\"Suriname\",\"Uruguay\",\"Venezuela\")\n",
    "\n",
    "Oceania <- c(\"Australia\",\"Fiji\",\"Kiribati\",\"Marshall Islands\",\"Micronesia\",\"Nauru\",\"New Zealand\",\"Palau\",\"Papua New Guinea\",\"Samoa\",\"Solomon Islands\",\"Tonga\",\"Tuvalu\",\"Vanuatu\")"
   ]
  },
  {
   "cell_type": "code",
   "execution_count": null,
   "id": "d5a8eacb",
   "metadata": {},
   "outputs": [],
   "source": [
    "library(\"HSAUR\")\n",
    "\n",
    "df <- data.frame(Forbes2000)\n",
    "\n",
    "Continent <- c()\n",
    "for (i in df$country) {\n",
    "  if (i %in% North_America) {\n",
    "    Continent <- c(Continent, \"Nort America\")\n",
    "  } else if (i %in% Europe) {\n",
    "    Continent <- c(Continent, \"Europe\")\n",
    "  } else if (i %in% Asia) {\n",
    "    Continent <- c(Continent, \"Asia\")\n",
    "  } else if (i %in% Africa) {\n",
    "    Continent <- c(Continent, \"Africa\")\n",
    "  } else if (i %in% South_America) {\n",
    "    Continent <- c(Continent, \"South America\")\n",
    "  } else if (i %in% Oceania) {\n",
    "    Continent <- c(Continent, \"Oceania\")\n",
    "  } else {\n",
    "    Continent <- c(Continent, NA)\n",
    "  }\n",
    "}\n",
    "\n",
    "df <- data.frame(df, Continent)"
   ]
  },
  {
   "cell_type": "code",
   "execution_count": null,
   "id": "4e867080",
   "metadata": {
    "fig.width": 10
   },
   "outputs": [],
   "source": [
    "color_palette <- c(\"#001219\", \"#0a9396\", \"#ee9b00\", \"#ae2012\", \"#e9d8a6\", \"#7f5539\")\n",
    "\n",
    "df %>%\n",
    "  ggplot(aes(profits, marketvalue, color = Continent)) + \n",
    "  geom_point(alpha = 0.3, lwd = 2, na.rm = TRUE) +\n",
    "  theme_economist() +\n",
    "  scale_colour_manual(values = color_palette) +\n",
    "  xlim(-5, 10) + # We won't show values that are on the extremes of the \"profits\" axis to make the visualization of most companies easier\n",
    "  theme(legend.position = \"top\")"
   ]
  },
  {
   "cell_type": "markdown",
   "id": "5dc6fded",
   "metadata": {},
   "source": [
    "c. Add sector (category variable) to the graph. You may need to merge all categories except for as less the 5 more common ones. Suggestion: Forbes2000$category is a factor. See previous suggestion.\n",
    "\n",
    "Suggestions: * Including parameters fig.width and fig.height in chunk header in RMarkdown may increase the space available for the graphics. Example: `{r fig.width=10, fig.height=8}` * `ggplot`, `geom_point` and aestetics `x`, `y`, `color` and `shape`."
   ]
  },
  {
   "cell_type": "code",
   "execution_count": null,
   "id": "4f7a75f0",
   "metadata": {
    "fig.width": 10
   },
   "outputs": [],
   "source": [
    "df3 <- data.frame(Forbes2000)\n",
    "top5_sectors <-as.vector(data.frame(sort(table(df3$category), decreasing = TRUE))$Var1[1:5]) # This is cluttered code, and less readable, but we avoid creating a lot of variables for a mundane task\n",
    "\n",
    "df3$category <- as.character(df3$category)\n",
    "\n",
    "df3$category[!df3$category %in% top5_sectors] = \"Other\"\n",
    "\n",
    "df3 %>% \n",
    "  ggplot(aes(x = profits, y = marketvalue, color = category)) +\n",
    "  geom_point(na.rm = TRUE, alpha = 0.55, lwd = 2) + \n",
    "  theme_economist()"
   ]
  }
 ],
 "metadata": {
  "jupytext": {
   "cell_metadata_filter": "tags,fig.width,fig.height,-all",
   "main_language": "R",
   "notebook_metadata_filter": "-all"
  }
 },
 "nbformat": 4,
 "nbformat_minor": 5
}
